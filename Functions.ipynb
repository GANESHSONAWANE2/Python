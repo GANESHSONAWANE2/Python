{
  "nbformat": 4,
  "nbformat_minor": 0,
  "metadata": {
    "colab": {
      "provenance": []
    },
    "kernelspec": {
      "name": "python3",
      "display_name": "Python 3"
    },
    "language_info": {
      "name": "python"
    }
  },
  "cells": [
    {
      "cell_type": "markdown",
      "source": [
        "Create a function which takes two numbers and adds them together"
      ],
      "metadata": {
        "id": "D1Pc_dnnqCui"
      }
    },
    {
      "cell_type": "code",
      "source": [
        "def add(a,b): #a and b are parameters\n",
        "\n",
        "  sum = a+b\n",
        "\n",
        "  print(sum)"
      ],
      "metadata": {
        "id": "GtG0xDKZjLxS"
      },
      "execution_count": 1,
      "outputs": []
    },
    {
      "cell_type": "code",
      "source": [
        "add(4,9) #4 and 9 are arguments to the parameter"
      ],
      "metadata": {
        "colab": {
          "base_uri": "https://localhost:8080/"
        },
        "id": "LxFEcm1HoESq",
        "outputId": "5ba8c983-3c97-42b5-884e-140624337277"
      },
      "execution_count": 2,
      "outputs": [
        {
          "output_type": "stream",
          "name": "stdout",
          "text": [
            "13\n"
          ]
        }
      ]
    },
    {
      "cell_type": "code",
      "source": [
        "add(7,9)"
      ],
      "metadata": {
        "colab": {
          "base_uri": "https://localhost:8080/"
        },
        "id": "HISY4K6UoHhT",
        "outputId": "16574796-f43b-4075-bbbf-53db5d461de9"
      },
      "execution_count": 3,
      "outputs": [
        {
          "output_type": "stream",
          "name": "stdout",
          "text": [
            "16\n"
          ]
        }
      ]
    },
    {
      "cell_type": "code",
      "source": [
        "add(-5,-7)"
      ],
      "metadata": {
        "colab": {
          "base_uri": "https://localhost:8080/"
        },
        "id": "CZt8m2cqoJ7B",
        "outputId": "92cc325c-0564-4d83-9658-1820e20bee67"
      },
      "execution_count": 4,
      "outputs": [
        {
          "output_type": "stream",
          "name": "stdout",
          "text": [
            "-12\n"
          ]
        }
      ]
    },
    {
      "cell_type": "markdown",
      "source": [
        "Create a funtion which takes 2 numbers and display the addition, subtraction, multiplication and division of these two numbers"
      ],
      "metadata": {
        "id": "hcL1TaKtqKrw"
      }
    },
    {
      "cell_type": "code",
      "source": [
        "def compute(a,b):\n",
        "  s=a+b\n",
        "  t=a-b\n",
        "  u=a*b\n",
        "  v=a/b\n",
        "\n",
        "  print(s,t,u,v)"
      ],
      "metadata": {
        "id": "4srPFOkaoMua"
      },
      "execution_count": 5,
      "outputs": []
    },
    {
      "cell_type": "code",
      "source": [
        "compute(7,9)"
      ],
      "metadata": {
        "colab": {
          "base_uri": "https://localhost:8080/"
        },
        "id": "cdUDBT1Roto9",
        "outputId": "084e7d7a-168f-408a-8a0e-f409316f6df9"
      },
      "execution_count": 6,
      "outputs": [
        {
          "output_type": "stream",
          "name": "stdout",
          "text": [
            "16 -2 63 0.7777777777777778\n"
          ]
        }
      ]
    },
    {
      "cell_type": "markdown",
      "source": [
        "Create a function which displays the name, age and city of a candidate"
      ],
      "metadata": {
        "id": "nkAgQ9cMsWlg"
      }
    },
    {
      "cell_type": "code",
      "source": [
        "def info(name,age,city):\n",
        "  print(name,age,city)"
      ],
      "metadata": {
        "id": "9bMfjy6RrDq5"
      },
      "execution_count": 7,
      "outputs": []
    },
    {
      "cell_type": "code",
      "source": [
        "info('Aashutosh',99,'Noida')"
      ],
      "metadata": {
        "colab": {
          "base_uri": "https://localhost:8080/"
        },
        "id": "ObAiM8ltuBYY",
        "outputId": "e5bca9de-bbc2-4957-e5d1-a13eac8ef378"
      },
      "execution_count": 8,
      "outputs": [
        {
          "output_type": "stream",
          "name": "stdout",
          "text": [
            "Aashutosh 99 Noida\n"
          ]
        }
      ]
    },
    {
      "cell_type": "code",
      "source": [
        "info('Meera',98,'Delhi')"
      ],
      "metadata": {
        "colab": {
          "base_uri": "https://localhost:8080/"
        },
        "id": "XT23FIn8uHCt",
        "outputId": "a32a4725-b8c5-4832-b6e6-33d481e75c2b"
      },
      "execution_count": 9,
      "outputs": [
        {
          "output_type": "stream",
          "name": "stdout",
          "text": [
            "Meera 98 Delhi\n"
          ]
        }
      ]
    },
    {
      "cell_type": "markdown",
      "source": [
        "Types of Arguments\n",
        "\n",
        "1. Positional Arguments\n",
        "\n",
        "2. Default Arguments\n",
        "\n",
        "3. Arbitrary Arguments\n",
        "\n",
        "4. Keyword Arguments\n",
        "\n",
        "5. Arbitrary Keyword Arguments"
      ],
      "metadata": {
        "id": "V6x55-VyuXkh"
      }
    },
    {
      "cell_type": "code",
      "source": [],
      "metadata": {
        "id": "jY6xi3_vuL53"
      },
      "execution_count": 9,
      "outputs": []
    }
  ]
}