{
  "nbformat": 4,
  "nbformat_minor": 0,
  "metadata": {
    "colab": {
      "provenance": []
    },
    "kernelspec": {
      "name": "python3",
      "display_name": "Python 3"
    },
    "language_info": {
      "name": "python"
    }
  },
  "cells": [
    {
      "cell_type": "markdown",
      "source": [
        "Take marks as input from the user and check if the marks is more than 90"
      ],
      "metadata": {
        "id": "LeG3iMvrC0Tm"
      }
    },
    {
      "cell_type": "code",
      "source": [
        "marks=int(input(\"enter your marks\"))\n",
        "\n",
        "if marks>90:\n",
        "  print(\"marks obtained is more than 90\")"
      ],
      "metadata": {
        "id": "0rs6sX3dCzz-"
      },
      "execution_count": null,
      "outputs": []
    },
    {
      "cell_type": "markdown",
      "source": [
        "Take a number as input from the user and check if the number is greater than 15 or not"
      ],
      "metadata": {
        "id": "x35rCfdy_khf"
      }
    },
    {
      "cell_type": "code",
      "execution_count": null,
      "metadata": {
        "id": "YklnETfZ_jQ0"
      },
      "outputs": [],
      "source": [
        "num=int(input(\"enter a number\"))\n",
        "\n",
        "if num>15:\n",
        "  print(\"num is greater than 15\")\n",
        "\n",
        "else:\n",
        "  print(\"num is less than 15\")"
      ]
    },
    {
      "cell_type": "markdown",
      "source": [
        "Take two numbers 'x' and 'y' as input from the user and check which number is greater"
      ],
      "metadata": {
        "id": "_4RN8McnAQwK"
      }
    },
    {
      "cell_type": "code",
      "source": [
        "x=int(input(\"enter a number for x\"))\n",
        "y=int(input(\"enter a number for y\"))\n",
        "\n",
        "if x>y:\n",
        "  print(\"x is greater than y\",x,y)\n",
        "\n",
        "elif x==y:\n",
        "  print(\"both x and y are same\",x,y)\n",
        "\n",
        "else:\n",
        "  print(\"x is less than y\")"
      ],
      "metadata": {
        "id": "1UMAfK9U_78t"
      },
      "execution_count": null,
      "outputs": []
    },
    {
      "cell_type": "markdown",
      "source": [
        "Take age of a candidate as input from the user and check if the candidate is eligible for voting or not (voting age >=18 years)"
      ],
      "metadata": {
        "id": "-TFgaBAfERxK"
      }
    },
    {
      "cell_type": "code",
      "source": [
        "age=int(input(\"enter your age\"))\n",
        "\n",
        "if age>=18:\n",
        "  print(\"you are eligible for voting\")\n",
        "\n",
        "else:\n",
        "  print(\"you are not eligble for voting\")"
      ],
      "metadata": {
        "id": "AdFU_FqjBnoU"
      },
      "execution_count": null,
      "outputs": []
    },
    {
      "cell_type": "markdown",
      "source": [
        "Take marks as input from the user and give grades to students in the following format:\n",
        "\n",
        "marks more than or equal to 90 -- A\n",
        "\n",
        "marks more than or equal to 80 -- B\n",
        "\n",
        "marks more than or equal to 70 -- C\n",
        "\n",
        "marks more than or equal to 60 -- D\n",
        "\n",
        "marks less than 60 -- study hard\n",
        "\n",
        "\n",
        "\n"
      ],
      "metadata": {
        "id": "uplsWTXDGdV4"
      }
    },
    {
      "cell_type": "code",
      "source": [
        "marks = int(input(\"enter your marks\"))\n",
        "\n",
        "if marks>=90:\n",
        "  print(\"A grade\")\n",
        "\n",
        "elif marks>=80:\n",
        "  print(\"B grade\")\n",
        "\n",
        "elif marks>=70:\n",
        "  print(\"C grade\")\n",
        "\n",
        "elif marks>=60:\n",
        "  print(\"D grade\")\n",
        "\n",
        "else:\n",
        "  print(\"Study hard\")"
      ],
      "metadata": {
        "id": "Sqa_8iH5GJW-"
      },
      "execution_count": null,
      "outputs": []
    },
    {
      "cell_type": "markdown",
      "source": [
        "In a fare, the entry fee for children less than 4 years of age is free, the entry of children between 4 to 16 years in 100 rupees and the entry of people above 16 years is 175 rupees.\n",
        "\n",
        "Take age as input from the user and calculate the entry fee based on the age provided"
      ],
      "metadata": {
        "id": "MeipSqKsJOkW"
      }
    },
    {
      "cell_type": "code",
      "source": [
        "age=int(input(\"enter your age\"))\n",
        "\n",
        "if age<4:\n",
        "  print(\"free of cost entry\")\n",
        "\n",
        "elif 16>=age>=4:\n",
        "  print(\"100 rupees entry fee\")\n",
        "\n",
        "else:\n",
        "  print(\"175 rupees entry fee\")"
      ],
      "metadata": {
        "colab": {
          "base_uri": "https://localhost:8080/"
        },
        "id": "Qs6Ih514Isu4",
        "outputId": "9c7bcd8e-1c51-40e4-b131-a521fcb21fa2"
      },
      "execution_count": 6,
      "outputs": [
        {
          "output_type": "stream",
          "name": "stdout",
          "text": [
            "enter your age16\n",
            "100 rupees entry fee\n"
          ]
        }
      ]
    },
    {
      "cell_type": "markdown",
      "source": [
        "Take a number as input from the user and check if the number is even or odd"
      ],
      "metadata": {
        "id": "mSNpxse6NTlI"
      }
    },
    {
      "cell_type": "code",
      "source": [
        "#even -- the number is perfectly divisible by 2 -- the remainder should be 0\n",
        "num=int(input(\"enter a number\"))\n",
        "\n",
        "if num%2==0: #num when gets div by 2 gives 0 as remainder\n",
        "  print(\"num is even\")\n",
        "\n",
        "else:\n",
        "  print(\"num is odd\")"
      ],
      "metadata": {
        "colab": {
          "base_uri": "https://localhost:8080/"
        },
        "id": "3BBgosErMOMl",
        "outputId": "d7887e4a-bdd2-459a-8e80-e4f7966b6fb0"
      },
      "execution_count": 7,
      "outputs": [
        {
          "output_type": "stream",
          "name": "stdout",
          "text": [
            "enter a number3\n",
            "num is odd\n"
          ]
        }
      ]
    },
    {
      "cell_type": "markdown",
      "source": [
        "Take a number as input from the user and check if the number is odd"
      ],
      "metadata": {
        "id": "-ZA2eaW9P6Nc"
      }
    },
    {
      "cell_type": "code",
      "source": [
        "num=int(input(\"enter a number\"))\n",
        "\n",
        "if num%2!=0:\n",
        "  print(\"num is odd\")"
      ],
      "metadata": {
        "colab": {
          "base_uri": "https://localhost:8080/"
        },
        "id": "vjaMN5L6PyRQ",
        "outputId": "3a54f5d8-df56-4aab-deb6-54f7953c9ab4"
      },
      "execution_count": 8,
      "outputs": [
        {
          "name": "stdout",
          "output_type": "stream",
          "text": [
            "enter a number2\n"
          ]
        }
      ]
    },
    {
      "cell_type": "markdown",
      "source": [
        "The owner of a company decides to give a bonus of 5% to employees who have been working in this company for the past 5 years or more.\n",
        "\n",
        "Take current salary and years of experience with the current organization as input from the user and display the incremented salary (if any)"
      ],
      "metadata": {
        "id": "kQPTNPMFR10y"
      }
    },
    {
      "cell_type": "code",
      "source": [
        "current_salary=int(input(\"enter your current salary\"))\n",
        "exp=int(input(\"enter your years of experience\"))\n",
        "\n",
        "if exp>=5:\n",
        "  print(\"your incremented salary is\", current_salary+0.05*current_salary)\n",
        "\n",
        "else:\n",
        "  print(\"no increment in the salary, your current salary is\",current_salary)"
      ],
      "metadata": {
        "colab": {
          "base_uri": "https://localhost:8080/"
        },
        "id": "R7ovlvwVQ2SZ",
        "outputId": "05bcdca3-b5d8-4b96-d8fe-6d8a6a06d5ea"
      },
      "execution_count": 9,
      "outputs": [
        {
          "output_type": "stream",
          "name": "stdout",
          "text": [
            "enter your current salary15000\n",
            "enter your years of experience5\n",
            "your incremented salary is 15750.0\n"
          ]
        }
      ]
    },
    {
      "cell_type": "markdown",
      "source": [
        "Take a number as input from the user and check if the number is greater than 10 or not. Just in case the number is greater than 10, check if the number is greater than 20 also or not"
      ],
      "metadata": {
        "id": "Gj_1S7HLMzXP"
      }
    },
    {
      "cell_type": "code",
      "source": [
        "x=int(input(\"enter a number\"))\n",
        "\n",
        "if x>10:\n",
        "\n",
        "  if x>20:\n",
        "    print(\"x is greater than 20\")\n",
        "\n",
        "  else:\n",
        "    print(\"x is less than 20 but greater than 10\")\n",
        "\n",
        "else:\n",
        "  print(\"x is less than 10\")"
      ],
      "metadata": {
        "id": "7lO6cnjYVbnR",
        "colab": {
          "base_uri": "https://localhost:8080/"
        },
        "outputId": "e3e450de-27e7-4c89-dbb7-975c30111353"
      },
      "execution_count": 10,
      "outputs": [
        {
          "output_type": "stream",
          "name": "stdout",
          "text": [
            "enter a number15\n",
            "x is less than 20 but greater than 10\n"
          ]
        }
      ]
    },
    {
      "cell_type": "markdown",
      "source": [
        "Take a number as input from the user and check if the number is 0 or +ve or -ve using nested statements"
      ],
      "metadata": {
        "id": "cVDOQGwbN7cf"
      }
    },
    {
      "cell_type": "code",
      "source": [
        "x=int(input(\"enter a value\"))\n",
        "\n",
        "if x>=0:\n",
        "\n",
        "  if x>0:\n",
        "    print(\"X is +ve\")\n",
        "\n",
        "  else:\n",
        "    print(\"X is equal to 0\")\n",
        "\n",
        "else:\n",
        "  print(\"X is -ve\")"
      ],
      "metadata": {
        "colab": {
          "base_uri": "https://localhost:8080/"
        },
        "id": "Ux_HHf5VN64I",
        "outputId": "97768e05-3af0-45f6-c719-97aaa2abb004"
      },
      "execution_count": 11,
      "outputs": [
        {
          "output_type": "stream",
          "name": "stdout",
          "text": [
            "enter a value2\n",
            "X is +ve\n"
          ]
        }
      ]
    },
    {
      "cell_type": "code",
      "source": [
        "x=int(input(\"enter a value\"))\n",
        "\n",
        "if x<0:\n",
        "  print(\"x is -ve\")\n",
        "\n",
        "else:\n",
        "\n",
        "  if x>0:\n",
        "    print(\"x is +ve\")\n",
        "\n",
        "  else:\n",
        "    print(\"x is 0\")"
      ],
      "metadata": {
        "colab": {
          "base_uri": "https://localhost:8080/"
        },
        "id": "qOQ33ci7Nnvh",
        "outputId": "382a1e5c-5953-472a-b89f-d2c6005d60d8"
      },
      "execution_count": 13,
      "outputs": [
        {
          "output_type": "stream",
          "name": "stdout",
          "text": [
            "enter a value0\n",
            "x is 0\n"
          ]
        }
      ]
    },
    {
      "cell_type": "code",
      "source": [],
      "metadata": {
        "id": "TNG8JoyoRZBU"
      },
      "execution_count": null,
      "outputs": []
    }
  ]
}