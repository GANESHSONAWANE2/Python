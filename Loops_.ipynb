{
  "nbformat": 4,
  "nbformat_minor": 0,
  "metadata": {
    "colab": {
      "provenance": []
    },
    "kernelspec": {
      "name": "python3",
      "display_name": "Python 3"
    },
    "language_info": {
      "name": "python"
    }
  },
  "cells": [
    {
      "cell_type": "markdown",
      "source": [
        "Display the names of your friends one by one stored in the form of a list"
      ],
      "metadata": {
        "id": "1GHIDoaJVVW2"
      }
    },
    {
      "cell_type": "code",
      "execution_count": 1,
      "metadata": {
        "colab": {
          "base_uri": "https://localhost:8080/"
        },
        "id": "jKG8gAiPST9B",
        "outputId": "364b49fc-90ff-41c2-cd16-0c6173024742"
      },
      "outputs": [
        {
          "output_type": "stream",
          "name": "stdout",
          "text": [
            "George\n",
            "Catherine\n",
            "John\n",
            "Chirag\n",
            "Rishabh\n",
            "Tushar\n",
            "Sagar\n",
            "Alok\n"
          ]
        }
      ],
      "source": [
        "names=['George','Catherine','John','Chirag','Rishabh','Tushar','Sagar','Alok']\n",
        "\n",
        "for name in names: #name is an iterator\n",
        "  print(name)"
      ]
    },
    {
      "cell_type": "code",
      "source": [
        "fruits=['Apple','Mango','Banana','Grapes','Kivi']\n",
        "\n",
        "for fruit in fruits:\n",
        "  print(fruit)"
      ],
      "metadata": {
        "colab": {
          "base_uri": "https://localhost:8080/"
        },
        "id": "l8GWDQAbWzVv",
        "outputId": "0fd094ab-18c0-4dba-d8fa-2a761015e67e"
      },
      "execution_count": 2,
      "outputs": [
        {
          "output_type": "stream",
          "name": "stdout",
          "text": [
            "Apple\n",
            "Mango\n",
            "Banana\n",
            "Grapes\n",
            "Kivi\n"
          ]
        }
      ]
    },
    {
      "cell_type": "code",
      "source": [
        "for i in fruits:\n",
        "  print(i,end=' ')"
      ],
      "metadata": {
        "colab": {
          "base_uri": "https://localhost:8080/"
        },
        "id": "ku1RpQoCYLbU",
        "outputId": "2942caab-aa6c-4efb-df41-52a3f4cc0713"
      },
      "execution_count": 3,
      "outputs": [
        {
          "output_type": "stream",
          "name": "stdout",
          "text": [
            "Apple Mango Banana Grapes Kivi "
          ]
        }
      ]
    },
    {
      "cell_type": "markdown",
      "source": [
        "Display the first 10 whole numbers"
      ],
      "metadata": {
        "id": "wQzSazzxbHwW"
      }
    },
    {
      "cell_type": "code",
      "source": [
        "for i in range(0,10): #bydefault the step size will be 1\n",
        "  print(i)"
      ],
      "metadata": {
        "colab": {
          "base_uri": "https://localhost:8080/"
        },
        "id": "3ti-E-TtYOup",
        "outputId": "51afee39-d6f3-455a-d6c0-f9cf2fe425a3"
      },
      "execution_count": 4,
      "outputs": [
        {
          "output_type": "stream",
          "name": "stdout",
          "text": [
            "0\n",
            "1\n",
            "2\n",
            "3\n",
            "4\n",
            "5\n",
            "6\n",
            "7\n",
            "8\n",
            "9\n"
          ]
        }
      ]
    },
    {
      "cell_type": "code",
      "source": [
        "for i in range(0,10,2): #here step size is 2 - consequtive o/ps will have difference of 2\n",
        "  print(i)"
      ],
      "metadata": {
        "colab": {
          "base_uri": "https://localhost:8080/"
        },
        "id": "TlkxsALvbN9E",
        "outputId": "36b8fac0-7d9d-4156-a38c-0d4d826611e5"
      },
      "execution_count": 5,
      "outputs": [
        {
          "output_type": "stream",
          "name": "stdout",
          "text": [
            "0\n",
            "2\n",
            "4\n",
            "6\n",
            "8\n"
          ]
        }
      ]
    },
    {
      "cell_type": "code",
      "source": [
        "for i in range(0,10,3):\n",
        "  print(i,end=' ')"
      ],
      "metadata": {
        "colab": {
          "base_uri": "https://localhost:8080/"
        },
        "id": "MWx1WuF_cZEc",
        "outputId": "b44930c4-1cc8-471b-e1c5-68d2eff7e1e0"
      },
      "execution_count": 6,
      "outputs": [
        {
          "output_type": "stream",
          "name": "stdout",
          "text": [
            "0 3 6 9 "
          ]
        }
      ]
    },
    {
      "cell_type": "markdown",
      "source": [
        "Take a list of numbers and display all the even numbers from this list"
      ],
      "metadata": {
        "id": "lzP6wrOwddD_"
      }
    },
    {
      "cell_type": "code",
      "source": [
        "my_list=[2,3,4,5,6,8,9]\n",
        "\n",
        "for i in my_list:\n",
        "  if i%2==0:\n",
        "    print(i,end=' ')"
      ],
      "metadata": {
        "colab": {
          "base_uri": "https://localhost:8080/"
        },
        "id": "Xk0BseV8clac",
        "outputId": "96d9f2b6-be04-420c-b960-d4b4d331efad"
      },
      "execution_count": 7,
      "outputs": [
        {
          "output_type": "stream",
          "name": "stdout",
          "text": [
            "2 4 6 8 "
          ]
        }
      ]
    },
    {
      "cell_type": "markdown",
      "source": [
        "Take a list of numbers and display all the even numbers from this list"
      ],
      "metadata": {
        "id": "uHSmr9-YfuSh"
      }
    },
    {
      "cell_type": "code",
      "source": [
        "my_list=[2,3,4,5,6,8,9]\n",
        "\n",
        "for i in my_list:\n",
        "  if i%2!=0:\n",
        "    print(i,end=' ')"
      ],
      "metadata": {
        "colab": {
          "base_uri": "https://localhost:8080/"
        },
        "id": "jQbcOusdfF7l",
        "outputId": "deb26b3c-9a17-4a02-a438-32ebe7f48c6f"
      },
      "execution_count": 8,
      "outputs": [
        {
          "output_type": "stream",
          "name": "stdout",
          "text": [
            "3 5 9 "
          ]
        }
      ]
    },
    {
      "cell_type": "markdown",
      "source": [
        "Display all the numbers including 1 to 10"
      ],
      "metadata": {
        "id": "kS7zoPutciL6"
      }
    },
    {
      "cell_type": "code",
      "source": [
        "a=1\n",
        "\n",
        "while a<=10:\n",
        "  print(a)\n",
        "  a=a+1"
      ],
      "metadata": {
        "id": "MLJzSNoSXcAB",
        "colab": {
          "base_uri": "https://localhost:8080/"
        },
        "outputId": "3c846ed6-0a4d-41ae-d761-0285933f48a0"
      },
      "execution_count": 9,
      "outputs": [
        {
          "output_type": "stream",
          "name": "stdout",
          "text": [
            "1\n",
            "2\n",
            "3\n",
            "4\n",
            "5\n",
            "6\n",
            "7\n",
            "8\n",
            "9\n",
            "10\n"
          ]
        }
      ]
    },
    {
      "cell_type": "markdown",
      "source": [
        "Display all the even numbers between 0 to 20 (both numbers included)"
      ],
      "metadata": {
        "id": "UVSSbGNccwbi"
      }
    },
    {
      "cell_type": "code",
      "source": [
        "a=0\n",
        "\n",
        "while a<=20:\n",
        "    print(a)\n",
        "    a=a+2"
      ],
      "metadata": {
        "id": "UU0yDFojXa6E",
        "colab": {
          "base_uri": "https://localhost:8080/"
        },
        "outputId": "0b6e9f69-f921-42e5-96f1-e156a87ad23f"
      },
      "execution_count": 10,
      "outputs": [
        {
          "output_type": "stream",
          "name": "stdout",
          "text": [
            "0\n",
            "2\n",
            "4\n",
            "6\n",
            "8\n",
            "10\n",
            "12\n",
            "14\n",
            "16\n",
            "18\n",
            "20\n"
          ]
        }
      ]
    },
    {
      "cell_type": "markdown",
      "source": [
        "Controlling the flow in Loops\n",
        "\n",
        "1. Break statement - breaks the loop when an element is satisfying a given condition\n",
        "\n",
        "2. Continue statement - the loop continues to iterate and only the element in the given condition gets skipped\n"
      ],
      "metadata": {
        "id": "emIG3uWHfV_h"
      }
    },
    {
      "cell_type": "code",
      "source": [
        "fruit=['Mango','Banana','PineApple','Guava','Grapes','Potato','Tomato']\n",
        "\n",
        "for i in fruit:\n",
        "  if i=='Guava': #if the fruit becomes Guava (4th iteration)\n",
        "    break\n",
        "  print(i)"
      ],
      "metadata": {
        "colab": {
          "base_uri": "https://localhost:8080/"
        },
        "id": "W3uWYQq2ePCy",
        "outputId": "9cb0e1ea-db75-4154-f4b7-34960a4902ec"
      },
      "execution_count": 11,
      "outputs": [
        {
          "output_type": "stream",
          "name": "stdout",
          "text": [
            "Mango\n",
            "Banana\n",
            "PineApple\n"
          ]
        }
      ]
    },
    {
      "cell_type": "code",
      "source": [
        "name='Aashutosh'\n",
        "\n",
        "for i in name:\n",
        "  if i=='t':\n",
        "    break\n",
        "  print(i,end='')"
      ],
      "metadata": {
        "colab": {
          "base_uri": "https://localhost:8080/"
        },
        "id": "SrTfDUxUgvna",
        "outputId": "469f160a-d505-479c-fa9c-889482113062"
      },
      "execution_count": 12,
      "outputs": [
        {
          "output_type": "stream",
          "name": "stdout",
          "text": [
            "Aashu"
          ]
        }
      ]
    },
    {
      "cell_type": "code",
      "source": [
        "fruit=['Mango','Banana','PineApple','Guava','Grapes','Potato','Tomato']\n",
        "\n",
        "for i in fruit:\n",
        "  if i=='Mango':\n",
        "    break\n",
        "  print(i)"
      ],
      "metadata": {
        "id": "SgBUyysWgs1F"
      },
      "execution_count": 13,
      "outputs": []
    },
    {
      "cell_type": "code",
      "source": [
        "fruit=['Mango','Banana','PineApple','Guava','Grapes','Potato','Tomato']\n",
        "\n",
        "for i in fruit:\n",
        "  if i=='Guava': #Guava will be skipped but the iteration will not stop\n",
        "    continue\n",
        "  print(i)"
      ],
      "metadata": {
        "colab": {
          "base_uri": "https://localhost:8080/"
        },
        "id": "sQ8tOFmjgXW2",
        "outputId": "cf5eb482-93a6-4a95-ceed-289d5848b2ab"
      },
      "execution_count": 14,
      "outputs": [
        {
          "output_type": "stream",
          "name": "stdout",
          "text": [
            "Mango\n",
            "Banana\n",
            "PineApple\n",
            "Grapes\n",
            "Potato\n",
            "Tomato\n"
          ]
        }
      ]
    },
    {
      "cell_type": "code",
      "source": [
        "fruit=['Mango','Banana','PineApple','Guava','Grapes','Potato','Tomato']\n",
        "\n",
        "for i in fruit:\n",
        "  if i=='Mango':\n",
        "    continue\n",
        "  print(i)"
      ],
      "metadata": {
        "colab": {
          "base_uri": "https://localhost:8080/"
        },
        "id": "wolfREXEht-6",
        "outputId": "d14116cf-cedf-42fc-9047-81ab3ef78781"
      },
      "execution_count": 15,
      "outputs": [
        {
          "output_type": "stream",
          "name": "stdout",
          "text": [
            "Banana\n",
            "PineApple\n",
            "Guava\n",
            "Grapes\n",
            "Potato\n",
            "Tomato\n"
          ]
        }
      ]
    },
    {
      "cell_type": "code",
      "source": [],
      "metadata": {
        "id": "B0-ebc62h6_r"
      },
      "execution_count": 15,
      "outputs": []
    }
  ]
}